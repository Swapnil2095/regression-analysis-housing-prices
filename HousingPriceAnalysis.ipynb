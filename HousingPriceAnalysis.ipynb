{
 "cells": [
  {
   "cell_type": "code",
   "execution_count": 34,
   "metadata": {
    "collapsed": false
   },
   "outputs": [
    {
     "ename": "ERROR",
     "evalue": "Error in library(reshape2): there is no package called ‘reshape2’\n",
     "output_type": "error",
     "traceback": [
      "Error in library(reshape2): there is no package called ‘reshape2’\nTraceback:\n",
      "1. library(reshape2)",
      "2. stop(txt, domain = NA)"
     ]
    }
   ],
   "source": [
    "library(reshape2)"
   ]
  },
  {
   "cell_type": "code",
   "execution_count": 24,
   "metadata": {
    "collapsed": false
   },
   "outputs": [],
   "source": [
    "train_df <- read.csv(\"./data/train_processed.csv\")\n",
    "train_df <- train_df[,-c(1)]\n"
   ]
  },
  {
   "cell_type": "code",
   "execution_count": 15,
   "metadata": {
    "collapsed": false,
    "scrolled": true
   },
   "outputs": [
    {
     "data": {
      "text/html": [
       "<ol class=list-inline>\n",
       "\t<li>1457</li>\n",
       "\t<li>51</li>\n",
       "</ol>\n"
      ],
      "text/latex": [
       "\\begin{enumerate*}\n",
       "\\item 1457\n",
       "\\item 51\n",
       "\\end{enumerate*}\n"
      ],
      "text/markdown": [
       "1. 1457\n",
       "2. 51\n",
       "\n",
       "\n"
      ],
      "text/plain": [
       "[1] 1457   51"
      ]
     },
     "metadata": {},
     "output_type": "display_data"
    }
   ],
   "source": [
    "dim(train_df)"
   ]
  },
  {
   "cell_type": "code",
   "execution_count": 16,
   "metadata": {
    "collapsed": false
   },
   "outputs": [
    {
     "data": {
      "text/plain": [
       ", , GarageFinish = Fin\n",
       "\n",
       "          GarageCond\n",
       "GarageQual  Ex  Fa  Gd NoGarage  Po  TA\n",
       "  Ex         1   0   0        0   0   0\n",
       "  Fa         0   0   0        0   0   1\n",
       "  Gd         0   0   1        0   0   1\n",
       "  NoGarage   0   0   0        0   0   0\n",
       "  Po         0   0   0        0   0   0\n",
       "  TA         0   1   0        0   0 344\n",
       "\n",
       ", , GarageFinish = NoGarage\n",
       "\n",
       "          GarageCond\n",
       "GarageQual  Ex  Fa  Gd NoGarage  Po  TA\n",
       "  Ex         0   0   0        0   0   0\n",
       "  Fa         0   0   0        0   0   0\n",
       "  Gd         0   0   0        0   0   0\n",
       "  NoGarage   0   0   0       81   0   0\n",
       "  Po         0   0   0        0   0   0\n",
       "  TA         0   0   0        0   0   0\n",
       "\n",
       ", , GarageFinish = RFn\n",
       "\n",
       "          GarageCond\n",
       "GarageQual  Ex  Fa  Gd NoGarage  Po  TA\n",
       "  Ex         0   0   0        0   0   0\n",
       "  Fa         0   0   0        0   0   0\n",
       "  Gd         0   0   2        0   0   5\n",
       "  NoGarage   0   0   0        0   0   0\n",
       "  Po         0   0   0        0   0   0\n",
       "  TA         0   0   3        0   0 412\n",
       "\n",
       ", , GarageFinish = Unf\n",
       "\n",
       "          GarageCond\n",
       "GarageQual  Ex  Fa  Gd NoGarage  Po  TA\n",
       "  Ex         1   0   0        0   0   1\n",
       "  Fa         0  20   0        0   4  23\n",
       "  Gd         0   0   1        0   0   4\n",
       "  NoGarage   0   0   0        0   0   0\n",
       "  Po         0   0   0        0   3   0\n",
       "  TA         0  14   2        0   0 532\n"
      ]
     },
     "metadata": {},
     "output_type": "display_data"
    },
    {
     "data": {
      "text/plain": [
       "        BsmtFinType1\n",
       "BsmtCond ALQ BLQ GLQ LwQ  No Rec Unf\n",
       "      Fa   1   3   0   8   0   8  25\n",
       "      Gd  12   3  26   5   0   3  16\n",
       "      No   0   0   0   0  37   0   0\n",
       "      Po   0   1   0   0   0   0   1\n",
       "      TA 207 141 389  61   0 122 388"
      ]
     },
     "metadata": {},
     "output_type": "display_data"
    }
   ],
   "source": [
    "xtabs(~GarageQual+GarageCond+GarageFinish, data=train_df)\n",
    "xtabs(~BsmtCond+BsmtFinType1, data=train_df)"
   ]
  },
  {
   "cell_type": "code",
   "execution_count": 25,
   "metadata": {
    "collapsed": false
   },
   "outputs": [
    {
     "data": {
      "text/html": [
       "<ol class=list-inline>\n",
       "\t<li>1457</li>\n",
       "\t<li>47</li>\n",
       "</ol>\n"
      ],
      "text/latex": [
       "\\begin{enumerate*}\n",
       "\\item 1457\n",
       "\\item 47\n",
       "\\end{enumerate*}\n"
      ],
      "text/markdown": [
       "1. 1457\n",
       "2. 47\n",
       "\n",
       "\n"
      ],
      "text/plain": [
       "[1] 1457   47"
      ]
     },
     "metadata": {},
     "output_type": "display_data"
    }
   ],
   "source": [
    "train_df <- train_df[, -c(which(colnames(train_df) == \"GarageFinish\"),\n",
    "                            which(colnames(train_df) == \"Exterior2nd\"),\n",
    "                            which(colnames(train_df) == \"GarageCond\"),\n",
    "                            which(colnames(train_df) == \"BsmtFinType1\"))]\n",
    "dim(train_df)"
   ]
  },
  {
   "cell_type": "code",
   "execution_count": 26,
   "metadata": {
    "collapsed": false
   },
   "outputs": [],
   "source": [
    "rmlse <- function(yhat, y) {\n",
    "  n <- length(yhat)\n",
    "  return(sqrt((1/n)*sum((yhat-y)^2)))\n",
    "}"
   ]
  },
  {
   "cell_type": "code",
   "execution_count": 30,
   "metadata": {
    "collapsed": false
   },
   "outputs": [
    {
     "ename": "ERROR",
     "evalue": "Error in trainControl(method = \"cv\", number = 10, savePredictions = TRUE): could not find function \"trainControl\"\n",
     "output_type": "error",
     "traceback": [
      "Error in trainControl(method = \"cv\", number = 10, savePredictions = TRUE): could not find function \"trainControl\"\nTraceback:\n"
     ]
    }
   ],
   "source": [
    "set.seed(564)\n",
    "controlParameter=trainControl(method = \"cv\", number = 10, savePredictions = TRUE)"
   ]
  },
  {
   "cell_type": "code",
   "execution_count": null,
   "metadata": {
    "collapsed": true
   },
   "outputs": [],
   "source": []
  }
 ],
 "metadata": {
  "kernelspec": {
   "display_name": "R",
   "language": "R",
   "name": "ir"
  },
  "language_info": {
   "codemirror_mode": "r",
   "file_extension": ".r",
   "mimetype": "text/x-r-source",
   "name": "R",
   "pygments_lexer": "r",
   "version": "3.5.1"
  }
 },
 "nbformat": 4,
 "nbformat_minor": 0
}
