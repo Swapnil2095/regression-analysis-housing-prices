{
 "cells": [
  {
   "cell_type": "code",
   "execution_count": 6,
   "metadata": {
    "collapsed": false
   },
   "outputs": [
    {
     "data": {
      "text/html": [
       "<ol class=list-inline>\n",
       "\t<li>'HousingPriceAnalysis.ipynb'</li>\n",
       "\t<li>'README.md'</li>\n",
       "\t<li>'runtime.txt'</li>\n",
       "</ol>\n"
      ],
      "text/latex": [
       "\\begin{enumerate*}\n",
       "\\item 'HousingPriceAnalysis.ipynb'\n",
       "\\item 'README.md'\n",
       "\\item 'runtime.txt'\n",
       "\\end{enumerate*}\n"
      ],
      "text/markdown": [
       "1. 'HousingPriceAnalysis.ipynb'\n",
       "2. 'README.md'\n",
       "3. 'runtime.txt'\n",
       "\n",
       "\n"
      ],
      "text/plain": [
       "[1] \"HousingPriceAnalysis.ipynb\" \"README.md\"                 \n",
       "[3] \"runtime.txt\"               "
      ]
     },
     "metadata": {},
     "output_type": "display_data"
    }
   ],
   "source": [
    "list.files()"
   ]
  },
  {
   "cell_type": "markdown",
   "metadata": {},
   "source": [
    "# Test texts"
   ]
  },
  {
   "cell_type": "code",
   "execution_count": null,
   "metadata": {
    "collapsed": true
   },
   "outputs": [],
   "source": []
  },
  {
   "cell_type": "code",
   "execution_count": null,
   "metadata": {
    "collapsed": true
   },
   "outputs": [],
   "source": []
  }
 ],
 "metadata": {
  "kernelspec": {
   "display_name": "R",
   "language": "R",
   "name": "ir"
  },
  "language_info": {
   "codemirror_mode": "r",
   "file_extension": ".r",
   "mimetype": "text/x-r-source",
   "name": "R",
   "pygments_lexer": "r",
   "version": "3.5.1"
  }
 },
 "nbformat": 4,
 "nbformat_minor": 0
}
